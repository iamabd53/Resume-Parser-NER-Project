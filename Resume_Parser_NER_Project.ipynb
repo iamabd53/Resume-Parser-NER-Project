{
  "nbformat": 4,
  "nbformat_minor": 0,
  "metadata": {
    "colab": {
      "provenance": [],
      "gpuType": "T4",
      "mount_file_id": "1-EKs29fJpBb8e7ab2QxCVqqsa_40R5yd",
      "authorship_tag": "ABX9TyMIdeZyzhTQXMI0H7H0RboZ",
      "include_colab_link": true
    },
    "kernelspec": {
      "name": "python3",
      "display_name": "Python 3"
    },
    "language_info": {
      "name": "python"
    },
    "accelerator": "GPU"
  },
  "cells": [
    {
      "cell_type": "markdown",
      "metadata": {
        "id": "view-in-github",
        "colab_type": "text"
      },
      "source": [
        "<a href=\"https://colab.research.google.com/github/iamabd53/Resume-Parser-NER-Project/blob/main/Resume_Parser_NER_Project.ipynb\" target=\"_parent\"><img src=\"https://colab.research.google.com/assets/colab-badge.svg\" alt=\"Open In Colab\"/></a>"
      ]
    },
    {
      "cell_type": "code",
      "execution_count": null,
      "metadata": {
        "id": "aO-ymW5OOvf2",
        "colab": {
          "base_uri": "https://localhost:8080/"
        },
        "outputId": "47693c42-5ff5-45ca-f6c8-72d2f6759ef2"
      },
      "outputs": [
        {
          "output_type": "stream",
          "name": "stdout",
          "text": [
            "Requirement already satisfied: spacy in /usr/local/lib/python3.10/dist-packages (3.6.1)\n",
            "Collecting spacy\n",
            "  Downloading spacy-3.7.2-cp310-cp310-manylinux_2_17_x86_64.manylinux2014_x86_64.whl (6.6 MB)\n",
            "\u001b[2K     \u001b[90m━━━━━━━━━━━━━━━━━━━━━━━━━━━━━━━━━━━━━━━━\u001b[0m \u001b[32m6.6/6.6 MB\u001b[0m \u001b[31m21.4 MB/s\u001b[0m eta \u001b[36m0:00:00\u001b[0m\n",
            "\u001b[?25hRequirement already satisfied: spacy-legacy<3.1.0,>=3.0.11 in /usr/local/lib/python3.10/dist-packages (from spacy) (3.0.12)\n",
            "Requirement already satisfied: spacy-loggers<2.0.0,>=1.0.0 in /usr/local/lib/python3.10/dist-packages (from spacy) (1.0.5)\n",
            "Requirement already satisfied: murmurhash<1.1.0,>=0.28.0 in /usr/local/lib/python3.10/dist-packages (from spacy) (1.0.10)\n",
            "Requirement already satisfied: cymem<2.1.0,>=2.0.2 in /usr/local/lib/python3.10/dist-packages (from spacy) (2.0.8)\n",
            "Requirement already satisfied: preshed<3.1.0,>=3.0.2 in /usr/local/lib/python3.10/dist-packages (from spacy) (3.0.9)\n",
            "Requirement already satisfied: thinc<8.3.0,>=8.1.8 in /usr/local/lib/python3.10/dist-packages (from spacy) (8.1.12)\n",
            "Requirement already satisfied: wasabi<1.2.0,>=0.9.1 in /usr/local/lib/python3.10/dist-packages (from spacy) (1.1.2)\n",
            "Requirement already satisfied: srsly<3.0.0,>=2.4.3 in /usr/local/lib/python3.10/dist-packages (from spacy) (2.4.8)\n",
            "Requirement already satisfied: catalogue<2.1.0,>=2.0.6 in /usr/local/lib/python3.10/dist-packages (from spacy) (2.0.10)\n",
            "Collecting weasel<0.4.0,>=0.1.0 (from spacy)\n",
            "  Downloading weasel-0.3.4-py3-none-any.whl (50 kB)\n",
            "\u001b[2K     \u001b[90m━━━━━━━━━━━━━━━━━━━━━━━━━━━━━━━━━━━━━━━━\u001b[0m \u001b[32m50.1/50.1 kB\u001b[0m \u001b[31m8.2 MB/s\u001b[0m eta \u001b[36m0:00:00\u001b[0m\n",
            "\u001b[?25hRequirement already satisfied: typer<0.10.0,>=0.3.0 in /usr/local/lib/python3.10/dist-packages (from spacy) (0.9.0)\n",
            "Requirement already satisfied: smart-open<7.0.0,>=5.2.1 in /usr/local/lib/python3.10/dist-packages (from spacy) (6.4.0)\n",
            "Requirement already satisfied: tqdm<5.0.0,>=4.38.0 in /usr/local/lib/python3.10/dist-packages (from spacy) (4.66.1)\n",
            "Requirement already satisfied: requests<3.0.0,>=2.13.0 in /usr/local/lib/python3.10/dist-packages (from spacy) (2.31.0)\n",
            "Requirement already satisfied: pydantic!=1.8,!=1.8.1,<3.0.0,>=1.7.4 in /usr/local/lib/python3.10/dist-packages (from spacy) (1.10.13)\n",
            "Requirement already satisfied: jinja2 in /usr/local/lib/python3.10/dist-packages (from spacy) (3.1.2)\n",
            "Requirement already satisfied: setuptools in /usr/local/lib/python3.10/dist-packages (from spacy) (67.7.2)\n",
            "Requirement already satisfied: packaging>=20.0 in /usr/local/lib/python3.10/dist-packages (from spacy) (23.2)\n",
            "Requirement already satisfied: langcodes<4.0.0,>=3.2.0 in /usr/local/lib/python3.10/dist-packages (from spacy) (3.3.0)\n",
            "Requirement already satisfied: numpy>=1.19.0 in /usr/local/lib/python3.10/dist-packages (from spacy) (1.23.5)\n",
            "Requirement already satisfied: typing-extensions>=4.2.0 in /usr/local/lib/python3.10/dist-packages (from pydantic!=1.8,!=1.8.1,<3.0.0,>=1.7.4->spacy) (4.5.0)\n",
            "Requirement already satisfied: charset-normalizer<4,>=2 in /usr/local/lib/python3.10/dist-packages (from requests<3.0.0,>=2.13.0->spacy) (3.3.2)\n",
            "Requirement already satisfied: idna<4,>=2.5 in /usr/local/lib/python3.10/dist-packages (from requests<3.0.0,>=2.13.0->spacy) (3.6)\n",
            "Requirement already satisfied: urllib3<3,>=1.21.1 in /usr/local/lib/python3.10/dist-packages (from requests<3.0.0,>=2.13.0->spacy) (2.0.7)\n",
            "Requirement already satisfied: certifi>=2017.4.17 in /usr/local/lib/python3.10/dist-packages (from requests<3.0.0,>=2.13.0->spacy) (2023.11.17)\n",
            "Requirement already satisfied: blis<0.8.0,>=0.7.8 in /usr/local/lib/python3.10/dist-packages (from thinc<8.3.0,>=8.1.8->spacy) (0.7.11)\n",
            "Requirement already satisfied: confection<1.0.0,>=0.0.1 in /usr/local/lib/python3.10/dist-packages (from thinc<8.3.0,>=8.1.8->spacy) (0.1.4)\n",
            "Requirement already satisfied: click<9.0.0,>=7.1.1 in /usr/local/lib/python3.10/dist-packages (from typer<0.10.0,>=0.3.0->spacy) (8.1.7)\n",
            "Collecting cloudpathlib<0.17.0,>=0.7.0 (from weasel<0.4.0,>=0.1.0->spacy)\n",
            "  Downloading cloudpathlib-0.16.0-py3-none-any.whl (45 kB)\n",
            "\u001b[2K     \u001b[90m━━━━━━━━━━━━━━━━━━━━━━━━━━━━━━━━━━━━━━━━\u001b[0m \u001b[32m45.0/45.0 kB\u001b[0m \u001b[31m6.4 MB/s\u001b[0m eta \u001b[36m0:00:00\u001b[0m\n",
            "\u001b[?25hRequirement already satisfied: MarkupSafe>=2.0 in /usr/local/lib/python3.10/dist-packages (from jinja2->spacy) (2.1.3)\n",
            "Installing collected packages: cloudpathlib, weasel, spacy\n",
            "  Attempting uninstall: spacy\n",
            "    Found existing installation: spacy 3.6.1\n",
            "    Uninstalling spacy-3.6.1:\n",
            "      Successfully uninstalled spacy-3.6.1\n",
            "\u001b[31mERROR: pip's dependency resolver does not currently take into account all the packages that are installed. This behaviour is the source of the following dependency conflicts.\n",
            "en-core-web-sm 3.6.0 requires spacy<3.7.0,>=3.6.0, but you have spacy 3.7.2 which is incompatible.\u001b[0m\u001b[31m\n",
            "\u001b[0mSuccessfully installed cloudpathlib-0.16.0 spacy-3.7.2 weasel-0.3.4\n",
            "Collecting spacy_transformers\n",
            "  Downloading spacy_transformers-1.3.4-cp310-cp310-manylinux_2_17_x86_64.manylinux2014_x86_64.whl (197 kB)\n",
            "\u001b[2K     \u001b[90m━━━━━━━━━━━━━━━━━━━━━━━━━━━━━━━━━━━━━━━━\u001b[0m \u001b[32m197.9/197.9 kB\u001b[0m \u001b[31m2.0 MB/s\u001b[0m eta \u001b[36m0:00:00\u001b[0m\n",
            "\u001b[?25hRequirement already satisfied: spacy<4.0.0,>=3.5.0 in /usr/local/lib/python3.10/dist-packages (from spacy_transformers) (3.7.2)\n",
            "Requirement already satisfied: transformers<4.37.0,>=3.4.0 in /usr/local/lib/python3.10/dist-packages (from spacy_transformers) (4.35.2)\n",
            "Requirement already satisfied: torch>=1.8.0 in /usr/local/lib/python3.10/dist-packages (from spacy_transformers) (2.1.0+cu121)\n",
            "Requirement already satisfied: srsly<3.0.0,>=2.4.0 in /usr/local/lib/python3.10/dist-packages (from spacy_transformers) (2.4.8)\n",
            "Collecting spacy-alignments<1.0.0,>=0.7.2 (from spacy_transformers)\n",
            "  Downloading spacy_alignments-0.9.1-cp310-cp310-manylinux_2_17_x86_64.manylinux2014_x86_64.whl (313 kB)\n",
            "\u001b[2K     \u001b[90m━━━━━━━━━━━━━━━━━━━━━━━━━━━━━━━━━━━━━━━━\u001b[0m \u001b[32m314.0/314.0 kB\u001b[0m \u001b[31m7.4 MB/s\u001b[0m eta \u001b[36m0:00:00\u001b[0m\n",
            "\u001b[?25hRequirement already satisfied: numpy>=1.19.0 in /usr/local/lib/python3.10/dist-packages (from spacy_transformers) (1.23.5)\n",
            "Requirement already satisfied: spacy-legacy<3.1.0,>=3.0.11 in /usr/local/lib/python3.10/dist-packages (from spacy<4.0.0,>=3.5.0->spacy_transformers) (3.0.12)\n",
            "Requirement already satisfied: spacy-loggers<2.0.0,>=1.0.0 in /usr/local/lib/python3.10/dist-packages (from spacy<4.0.0,>=3.5.0->spacy_transformers) (1.0.5)\n",
            "Requirement already satisfied: murmurhash<1.1.0,>=0.28.0 in /usr/local/lib/python3.10/dist-packages (from spacy<4.0.0,>=3.5.0->spacy_transformers) (1.0.10)\n",
            "Requirement already satisfied: cymem<2.1.0,>=2.0.2 in /usr/local/lib/python3.10/dist-packages (from spacy<4.0.0,>=3.5.0->spacy_transformers) (2.0.8)\n",
            "Requirement already satisfied: preshed<3.1.0,>=3.0.2 in /usr/local/lib/python3.10/dist-packages (from spacy<4.0.0,>=3.5.0->spacy_transformers) (3.0.9)\n",
            "Requirement already satisfied: thinc<8.3.0,>=8.1.8 in /usr/local/lib/python3.10/dist-packages (from spacy<4.0.0,>=3.5.0->spacy_transformers) (8.1.12)\n",
            "Requirement already satisfied: wasabi<1.2.0,>=0.9.1 in /usr/local/lib/python3.10/dist-packages (from spacy<4.0.0,>=3.5.0->spacy_transformers) (1.1.2)\n",
            "Requirement already satisfied: catalogue<2.1.0,>=2.0.6 in /usr/local/lib/python3.10/dist-packages (from spacy<4.0.0,>=3.5.0->spacy_transformers) (2.0.10)\n",
            "Requirement already satisfied: weasel<0.4.0,>=0.1.0 in /usr/local/lib/python3.10/dist-packages (from spacy<4.0.0,>=3.5.0->spacy_transformers) (0.3.4)\n",
            "Requirement already satisfied: typer<0.10.0,>=0.3.0 in /usr/local/lib/python3.10/dist-packages (from spacy<4.0.0,>=3.5.0->spacy_transformers) (0.9.0)\n",
            "Requirement already satisfied: smart-open<7.0.0,>=5.2.1 in /usr/local/lib/python3.10/dist-packages (from spacy<4.0.0,>=3.5.0->spacy_transformers) (6.4.0)\n",
            "Requirement already satisfied: tqdm<5.0.0,>=4.38.0 in /usr/local/lib/python3.10/dist-packages (from spacy<4.0.0,>=3.5.0->spacy_transformers) (4.66.1)\n",
            "Requirement already satisfied: requests<3.0.0,>=2.13.0 in /usr/local/lib/python3.10/dist-packages (from spacy<4.0.0,>=3.5.0->spacy_transformers) (2.31.0)\n",
            "Requirement already satisfied: pydantic!=1.8,!=1.8.1,<3.0.0,>=1.7.4 in /usr/local/lib/python3.10/dist-packages (from spacy<4.0.0,>=3.5.0->spacy_transformers) (1.10.13)\n",
            "Requirement already satisfied: jinja2 in /usr/local/lib/python3.10/dist-packages (from spacy<4.0.0,>=3.5.0->spacy_transformers) (3.1.2)\n",
            "Requirement already satisfied: setuptools in /usr/local/lib/python3.10/dist-packages (from spacy<4.0.0,>=3.5.0->spacy_transformers) (67.7.2)\n",
            "Requirement already satisfied: packaging>=20.0 in /usr/local/lib/python3.10/dist-packages (from spacy<4.0.0,>=3.5.0->spacy_transformers) (23.2)\n",
            "Requirement already satisfied: langcodes<4.0.0,>=3.2.0 in /usr/local/lib/python3.10/dist-packages (from spacy<4.0.0,>=3.5.0->spacy_transformers) (3.3.0)\n",
            "Requirement already satisfied: filelock in /usr/local/lib/python3.10/dist-packages (from torch>=1.8.0->spacy_transformers) (3.13.1)\n",
            "Requirement already satisfied: typing-extensions in /usr/local/lib/python3.10/dist-packages (from torch>=1.8.0->spacy_transformers) (4.5.0)\n",
            "Requirement already satisfied: sympy in /usr/local/lib/python3.10/dist-packages (from torch>=1.8.0->spacy_transformers) (1.12)\n",
            "Requirement already satisfied: networkx in /usr/local/lib/python3.10/dist-packages (from torch>=1.8.0->spacy_transformers) (3.2.1)\n",
            "Requirement already satisfied: fsspec in /usr/local/lib/python3.10/dist-packages (from torch>=1.8.0->spacy_transformers) (2023.6.0)\n",
            "Requirement already satisfied: triton==2.1.0 in /usr/local/lib/python3.10/dist-packages (from torch>=1.8.0->spacy_transformers) (2.1.0)\n",
            "Requirement already satisfied: huggingface-hub<1.0,>=0.16.4 in /usr/local/lib/python3.10/dist-packages (from transformers<4.37.0,>=3.4.0->spacy_transformers) (0.19.4)\n",
            "Requirement already satisfied: pyyaml>=5.1 in /usr/local/lib/python3.10/dist-packages (from transformers<4.37.0,>=3.4.0->spacy_transformers) (6.0.1)\n",
            "Requirement already satisfied: regex!=2019.12.17 in /usr/local/lib/python3.10/dist-packages (from transformers<4.37.0,>=3.4.0->spacy_transformers) (2023.6.3)\n",
            "Requirement already satisfied: tokenizers<0.19,>=0.14 in /usr/local/lib/python3.10/dist-packages (from transformers<4.37.0,>=3.4.0->spacy_transformers) (0.15.0)\n",
            "Requirement already satisfied: safetensors>=0.3.1 in /usr/local/lib/python3.10/dist-packages (from transformers<4.37.0,>=3.4.0->spacy_transformers) (0.4.1)\n",
            "Requirement already satisfied: charset-normalizer<4,>=2 in /usr/local/lib/python3.10/dist-packages (from requests<3.0.0,>=2.13.0->spacy<4.0.0,>=3.5.0->spacy_transformers) (3.3.2)\n",
            "Requirement already satisfied: idna<4,>=2.5 in /usr/local/lib/python3.10/dist-packages (from requests<3.0.0,>=2.13.0->spacy<4.0.0,>=3.5.0->spacy_transformers) (3.6)\n",
            "Requirement already satisfied: urllib3<3,>=1.21.1 in /usr/local/lib/python3.10/dist-packages (from requests<3.0.0,>=2.13.0->spacy<4.0.0,>=3.5.0->spacy_transformers) (2.0.7)\n",
            "Requirement already satisfied: certifi>=2017.4.17 in /usr/local/lib/python3.10/dist-packages (from requests<3.0.0,>=2.13.0->spacy<4.0.0,>=3.5.0->spacy_transformers) (2023.11.17)\n",
            "Requirement already satisfied: blis<0.8.0,>=0.7.8 in /usr/local/lib/python3.10/dist-packages (from thinc<8.3.0,>=8.1.8->spacy<4.0.0,>=3.5.0->spacy_transformers) (0.7.11)\n",
            "Requirement already satisfied: confection<1.0.0,>=0.0.1 in /usr/local/lib/python3.10/dist-packages (from thinc<8.3.0,>=8.1.8->spacy<4.0.0,>=3.5.0->spacy_transformers) (0.1.4)\n",
            "Requirement already satisfied: click<9.0.0,>=7.1.1 in /usr/local/lib/python3.10/dist-packages (from typer<0.10.0,>=0.3.0->spacy<4.0.0,>=3.5.0->spacy_transformers) (8.1.7)\n",
            "Requirement already satisfied: cloudpathlib<0.17.0,>=0.7.0 in /usr/local/lib/python3.10/dist-packages (from weasel<0.4.0,>=0.1.0->spacy<4.0.0,>=3.5.0->spacy_transformers) (0.16.0)\n",
            "Requirement already satisfied: MarkupSafe>=2.0 in /usr/local/lib/python3.10/dist-packages (from jinja2->spacy<4.0.0,>=3.5.0->spacy_transformers) (2.1.3)\n",
            "Requirement already satisfied: mpmath>=0.19 in /usr/local/lib/python3.10/dist-packages (from sympy->torch>=1.8.0->spacy_transformers) (1.3.0)\n",
            "Installing collected packages: spacy-alignments, spacy_transformers\n",
            "Successfully installed spacy-alignments-0.9.1 spacy_transformers-1.3.4\n",
            "Requirement already satisfied: PyMuPDF in /usr/local/lib/python3.10/dist-packages (1.23.8)\n",
            "Requirement already satisfied: PyMuPDFb==1.23.7 in /usr/local/lib/python3.10/dist-packages (from PyMuPDF) (1.23.7)\n"
          ]
        }
      ],
      "source": [
        "# Installing and importing necessary libraries\n",
        "!pip install -U spacy\n",
        "!pip install spacy_transformers\n",
        "!pip install PyMuPDF\n",
        "import spacy\n",
        "from spacy.tokens import DocBin\n",
        "from tqdm import tqdm\n",
        "import json\n",
        "import spacy"
      ]
    },
    {
      "cell_type": "code",
      "source": [
        "# Using tesla T4 GPU\n",
        "!nvidia-smi"
      ],
      "metadata": {
        "colab": {
          "base_uri": "https://localhost:8080/"
        },
        "id": "L7jrrU-Ap0jk",
        "outputId": "afd170b7-289e-4e70-b0e0-024e3ed803f3"
      },
      "execution_count": null,
      "outputs": [
        {
          "output_type": "stream",
          "name": "stdout",
          "text": [
            "Sun Dec 24 05:44:09 2023       \n",
            "+---------------------------------------------------------------------------------------+\n",
            "| NVIDIA-SMI 535.104.05             Driver Version: 535.104.05   CUDA Version: 12.2     |\n",
            "|-----------------------------------------+----------------------+----------------------+\n",
            "| GPU  Name                 Persistence-M | Bus-Id        Disp.A | Volatile Uncorr. ECC |\n",
            "| Fan  Temp   Perf          Pwr:Usage/Cap |         Memory-Usage | GPU-Util  Compute M. |\n",
            "|                                         |                      |               MIG M. |\n",
            "|=========================================+======================+======================|\n",
            "|   0  Tesla T4                       Off | 00000000:00:04.0 Off |                    0 |\n",
            "| N/A   45C    P8               9W /  70W |      3MiB / 15360MiB |      0%      Default |\n",
            "|                                         |                      |                  N/A |\n",
            "+-----------------------------------------+----------------------+----------------------+\n",
            "                                                                                         \n",
            "+---------------------------------------------------------------------------------------+\n",
            "| Processes:                                                                            |\n",
            "|  GPU   GI   CI        PID   Type   Process name                            GPU Memory |\n",
            "|        ID   ID                                                             Usage      |\n",
            "|=======================================================================================|\n",
            "|  No running processes found                                                           |\n",
            "+---------------------------------------------------------------------------------------+\n"
          ]
        }
      ]
    },
    {
      "cell_type": "code",
      "source": [
        "# Loading the data\n",
        "data_cv = json.load(open('/content/drive/MyDrive/ResumeParser/dataset/dataset.json','r'))"
      ],
      "metadata": {
        "id": "2XMaYGtzrGhq"
      },
      "execution_count": null,
      "outputs": []
    },
    {
      "cell_type": "code",
      "source": [
        "# length of data\n",
        "len(data_cv)"
      ],
      "metadata": {
        "colab": {
          "base_uri": "https://localhost:8080/"
        },
        "id": "Ts7KUbm9rZFQ",
        "outputId": "a27b9310-ba7b-4d6b-bc4e-d7a8aa963e5b"
      },
      "execution_count": null,
      "outputs": [
        {
          "output_type": "execute_result",
          "data": {
            "text/plain": [
              "1014"
            ]
          },
          "metadata": {},
          "execution_count": 6
        }
      ]
    },
    {
      "cell_type": "code",
      "source": [
        "data_cv[0]"
      ],
      "metadata": {
        "colab": {
          "base_uri": "https://localhost:8080/"
        },
        "id": "5j0cJ1f_rbXT",
        "outputId": "ffdcd645-c836-4b0d-dd12-5905b2a6b30d"
      },
      "execution_count": null,
      "outputs": [
        {
          "output_type": "execute_result",
          "data": {
            "text/plain": [
              "['\\xa0 \\xa0\\nContact\\nwww.linkedin.com/in/omjagri\\n(LinkedIn)\\nTop Skills\\nphp\\nMySQL\\nJavaScript\\nCertifications\\nPhp & Js Om Prakash Jagri\\nFull Stack Developer | PHP | Laravel | Vue Js\\nKathmandu, Bāgmatī, Nepal\\nSummary\\nExperienced Developer with a demonstrated history of working in\\nthe information technology and services industry. Skilled in Laravel,\\nPHP, Cascading Style Sheets (CSS), JavaScript, vue js and MySQL.\\nStrong engineering professional with a B.sc.CSIT(Bachelors of\\nScience in Computer Science and Information Technology) focused\\nin Computer Science from Tribhuvan University, Institute of Science\\n& Tchnology. \\nExperience\\nSearchable Design LLC\\nSoftware Developer\\nJune 2021\\xa0-\\xa0Present\\xa0 (1 year 7 months)\\nNepal\\nFull Stack Developer Laravel with Vue Js\\nBenekiva\\nTechnical Documentation\\nSeptember 2021\\xa0-\\xa0Present\\xa0 (1 year 4 months)\\nUnited States\\nBidhee\\n3 years 9 months\\nLaravel Developer\\nMarch 2018\\xa0-\\xa0May 2021\\xa0 (3 years 3 months)\\nBaneswar Kathamandu\\nInternship\\nSeptember 2017\\xa0-\\xa0February 2018\\xa0 (6 months)\\nKathamandu Nepal\\nWeb Development in PHP/JS With Laravel Framework \\nEducation\\n\\xa0 Page 1 of 2\\xa0 \\xa0\\nSiddhanath Science Campus Mahendranagar\\nB.sc.CSIT(Bachelors of Science in Computer Science and Information\\nTechnology),\\xa0Computer Science \\xa0·\\xa0(2013\\xa0-\\xa02018)\\n\\xa0 Page 2 of 2',\n",
              " {'entities': [[12, 39, 'LINKEDIN LINK'],\n",
              "   [62, 65, 'SKILLS'],\n",
              "   [66, 71, 'SKILLS'],\n",
              "   [72, 82, 'SKILLS'],\n",
              "   [98, 106, 'CERTIFICATION'],\n",
              "   [107, 123, 'NAME'],\n",
              "   [147, 150, 'SKILLS'],\n",
              "   [153, 160, 'SKILLS'],\n",
              "   [163, 169, 'SKILLS'],\n",
              "   [170, 195, 'LOCATION'],\n",
              "   [622, 643, 'COMPANIES WORKED AT'],\n",
              "   [644, 662, 'WORKED AS'],\n",
              "   [685, 700, 'YEARS OF EXPERIENCE'],\n",
              "   [749, 757, 'COMPANIES WORKED AT'],\n",
              "   [758, 781, 'WORKED AS'],\n",
              "   [809, 824, 'YEARS OF EXPERIENCE'],\n",
              "   [840, 846, 'COMPANIES WORKED AT'],\n",
              "   [864, 881, 'WORKED AS'],\n",
              "   [906, 922, 'YEARS OF EXPERIENCE'],\n",
              "   [944, 954, 'WORKED AS'],\n",
              "   [988, 996, 'YEARS OF EXPERIENCE'],\n",
              "   [1092, 1131, 'COLLEGE NAME'],\n",
              "   [1132, 1228, 'DEGREE']]}]"
            ]
          },
          "metadata": {},
          "execution_count": 7
        }
      ]
    },
    {
      "cell_type": "code",
      "source": [
        "# config file of spaCy -> Component - Name Entity Recognition , Hardware - GPU (Transformer)\n",
        "# filling the remaning default in our base_config file\n",
        "!python -m spacy init fill-config /content/drive/MyDrive/ResumeParser/config/base_config.cfg /content/drive/MyDrive/ResumeParser/config/config.cfg"
      ],
      "metadata": {
        "id": "OPzx0dgYreFL",
        "colab": {
          "base_uri": "https://localhost:8080/"
        },
        "outputId": "a1818981-ea15-49e5-da35-0c5c67039e44"
      },
      "execution_count": null,
      "outputs": [
        {
          "output_type": "stream",
          "name": "stdout",
          "text": [
            "2023-12-24 05:46:54.058729: E external/local_xla/xla/stream_executor/cuda/cuda_dnn.cc:9261] Unable to register cuDNN factory: Attempting to register factory for plugin cuDNN when one has already been registered\n",
            "2023-12-24 05:46:54.058790: E external/local_xla/xla/stream_executor/cuda/cuda_fft.cc:607] Unable to register cuFFT factory: Attempting to register factory for plugin cuFFT when one has already been registered\n",
            "2023-12-24 05:46:54.060093: E external/local_xla/xla/stream_executor/cuda/cuda_blas.cc:1515] Unable to register cuBLAS factory: Attempting to register factory for plugin cuBLAS when one has already been registered\n",
            "2023-12-24 05:46:55.107394: W tensorflow/compiler/tf2tensorrt/utils/py_utils.cc:38] TF-TRT Warning: Could not find TensorRT\n",
            "\u001b[38;5;2m✔ Auto-filled config with all values\u001b[0m\n",
            "\u001b[38;5;2m✔ Saved config\u001b[0m\n",
            "/content/drive/MyDrive/ResumeParser/config/config.cfg\n",
            "You can now add your data and train your pipeline:\n",
            "python -m spacy train config.cfg --paths.train ./train.spacy --paths.dev ./dev.spacy\n"
          ]
        }
      ]
    },
    {
      "cell_type": "code",
      "source": [
        "# This function \"get_spacy_doc\" processes text and entity annotations, creates spaCy documents with those entities,\n",
        "# and stores them in a DocBin object for later use in training a spaCy NLP model\n",
        "def get_spacy_doc(file, data):\n",
        "    # Loading spacy\n",
        "    nlp = spacy.blank('en')\n",
        "    # Creating Docbin\n",
        "    db = DocBin()\n",
        "\n",
        "    # Iterating through data\n",
        "    for text, annot in tqdm(data):\n",
        "        doc = nlp.make_doc(text)\n",
        "        annot = annot['entities']\n",
        "\n",
        "        # Initializes empty lists to store entities (ents) and indices of processed entities (entity_indices).\n",
        "        ents = []\n",
        "        entity_indices = []\n",
        "\n",
        "        # Iterates through each entity in the annotations\n",
        "        for start, end, label in annot:\n",
        "            skip_entity = False # Checks for overlapping entities by iterating through character indices of the current entity. If an index is already in entity_indices, it means there's an overlap, and the entity is skipped\n",
        "            for idx in range(start, end):\n",
        "                if idx in entity_indices:\n",
        "                    skip_entity = True\n",
        "                    break\n",
        "            if skip_entity == True:\n",
        "                continue\n",
        "            # Marks the character indices of the current entity as processed.\n",
        "            entity_indices = entity_indices + list(range(start, end))\n",
        "\n",
        "            # Attempts to create a spaCy Span object for the entity. If there's an exception (e.g., invalid label), it skips the entity.\n",
        "            try:\n",
        "                span = doc.char_span(start, end,label=label,alignment_mode = 'strict')\n",
        "            except:\n",
        "                continue\n",
        "\n",
        "            # checks whether the span object is None, which would indicate that the creation was not successful.\n",
        "            if span is None:\n",
        "                err_data = str([start, end]) + \" \" + str(text) + \"\\n \"\n",
        "                file.write(err_data)\n",
        "            # Appends the successfully created Span object to the ents list.\n",
        "            else:\n",
        "                ents.append(span)\n",
        "\n",
        "        try:\n",
        "            # Assigning entities and adding to DocBin\n",
        "            doc.ents = ents\n",
        "            db.add(doc)\n",
        "        except:\n",
        "            pass\n",
        "    # Returning DocBin\n",
        "    return db"
      ],
      "metadata": {
        "id": "razfKhepw-cB"
      },
      "execution_count": null,
      "outputs": []
    },
    {
      "cell_type": "code",
      "source": [
        "# splitting the data\n",
        "from sklearn.model_selection import train_test_split\n",
        "train, test = train_test_split(data_cv, test_size=0.3)"
      ],
      "metadata": {
        "id": "9lK2VuyAy7I2"
      },
      "execution_count": null,
      "outputs": []
    },
    {
      "cell_type": "code",
      "source": [
        "# Saving train and test data inside the model folder\n",
        "file = open('/content/drive/MyDrive/ResumeParser/model/train_file.txt', 'w')\n",
        "\n",
        "db = get_spacy_doc(file, train)\n",
        "db.to_disk('/content/drive/MyDrive/ResumeParser/model/train_data.spacy')\n",
        "\n",
        "db = get_spacy_doc(file, test)\n",
        "db.to_disk('/content/drive/MyDrive/ResumeParser/model/test_data.spacy')\n",
        "\n",
        "file.close()"
      ],
      "metadata": {
        "colab": {
          "base_uri": "https://localhost:8080/"
        },
        "id": "zosJEn9GzDM6",
        "outputId": "5419c3b0-5210-43b6-9d1a-a2ef5703adf9"
      },
      "execution_count": null,
      "outputs": [
        {
          "output_type": "stream",
          "name": "stderr",
          "text": [
            "100%|██████████| 709/709 [00:07<00:00, 93.40it/s] \n",
            "100%|██████████| 305/305 [00:02<00:00, 122.74it/s]\n"
          ]
        }
      ]
    },
    {
      "cell_type": "code",
      "source": [
        "# Training             # part of config file                                   # save the model output inside the model folder           # path of train data                                                     # path of test data                                                  # using gpu to train the model\n",
        "!python -m spacy train /content/drive/MyDrive/ResumeParser/config/config.cfg --output /content/drive/MyDrive/ResumeParser/model/output --paths.train /content/drive/MyDrive/ResumeParser/model/train_data.spacy --paths.dev /content/drive/MyDrive/ResumeParser/model/test_data.spacy --gpu-id 0"
      ],
      "metadata": {
        "colab": {
          "base_uri": "https://localhost:8080/"
        },
        "id": "99fb3Xpy0JVX",
        "outputId": "e0ee6365-c4a4-4eb9-e518-250154af17ed"
      },
      "execution_count": null,
      "outputs": [
        {
          "output_type": "stream",
          "name": "stdout",
          "text": [
            "2023-12-24 05:53:20.641743: E external/local_xla/xla/stream_executor/cuda/cuda_dnn.cc:9261] Unable to register cuDNN factory: Attempting to register factory for plugin cuDNN when one has already been registered\n",
            "2023-12-24 05:53:20.641791: E external/local_xla/xla/stream_executor/cuda/cuda_fft.cc:607] Unable to register cuFFT factory: Attempting to register factory for plugin cuFFT when one has already been registered\n",
            "2023-12-24 05:53:20.643017: E external/local_xla/xla/stream_executor/cuda/cuda_blas.cc:1515] Unable to register cuBLAS factory: Attempting to register factory for plugin cuBLAS when one has already been registered\n",
            "2023-12-24 05:53:21.674883: W tensorflow/compiler/tf2tensorrt/utils/py_utils.cc:38] TF-TRT Warning: Could not find TensorRT\n",
            "\u001b[38;5;2m✔ Created output directory:\n",
            "/content/drive/MyDrive/ResumeParser/model/output\u001b[0m\n",
            "\u001b[38;5;4mℹ Saving to output directory:\n",
            "/content/drive/MyDrive/ResumeParser/model/output\u001b[0m\n",
            "\u001b[38;5;4mℹ Using GPU: 0\u001b[0m\n",
            "\u001b[1m\n",
            "=========================== Initializing pipeline ===========================\u001b[0m\n",
            "config.json: 100% 481/481 [00:00<00:00, 2.47MB/s]\n",
            "vocab.json: 100% 899k/899k [00:00<00:00, 14.2MB/s]\n",
            "merges.txt: 100% 456k/456k [00:00<00:00, 57.2MB/s]\n",
            "tokenizer.json: 100% 1.36M/1.36M [00:00<00:00, 49.5MB/s]\n",
            "model.safetensors: 100% 499M/499M [00:02<00:00, 187MB/s]\n",
            "Some weights of RobertaModel were not initialized from the model checkpoint at roberta-base and are newly initialized: ['roberta.pooler.dense.bias', 'roberta.pooler.dense.weight']\n",
            "You should probably TRAIN this model on a down-stream task to be able to use it for predictions and inference.\n",
            "\u001b[38;5;2m✔ Initialized pipeline\u001b[0m\n",
            "\u001b[1m\n",
            "============================= Training pipeline =============================\u001b[0m\n",
            "\u001b[38;5;4mℹ Pipeline: ['transformer', 'ner']\u001b[0m\n",
            "\u001b[38;5;4mℹ Initial learn rate: 0.0\u001b[0m\n",
            "E    #       LOSS TRANS...  LOSS NER  ENTS_F  ENTS_P  ENTS_R  SCORE \n",
            "---  ------  -------------  --------  ------  ------  ------  ------\n",
            "  0       0        3329.56   1411.24    0.34    0.20    1.28    0.00\n",
            "  1     200     2853548.79  148158.90   10.19   21.41    6.68    0.10\n",
            "  2     400     1040775.10  63908.07   27.69   32.36   24.20    0.28\n",
            "  3     600      484605.88  45629.42   43.31   45.21   41.56    0.43\n",
            "  4     800       71551.65  21488.29   73.34   75.84   70.99    0.73\n",
            "  5    1000       63560.33  15441.17   70.27   81.11   61.99    0.70\n",
            "  6    1200       12291.35   9988.84   81.17   81.07   81.27    0.81\n",
            "  7    1400       13199.46   9607.43   84.28   86.12   82.51    0.84\n",
            "  8    1600        9716.37   7974.44   81.48   77.17   86.30    0.81\n",
            " 10    2000        9570.71   7057.35   85.48   85.59   85.37    0.85\n",
            " 12    2200        3789.03   5549.22   84.05   80.18   88.31    0.84\n",
            " 13    2400        4710.27   5476.58   83.77   80.86   86.91    0.84\n",
            " 14    2600       11305.84   5175.86   85.27   83.83   86.76    0.85\n",
            " 15    2800        4971.83   4964.33   85.40   85.83   84.98    0.85\n",
            " 16    3000        3496.34   4276.14   85.02   83.25   86.87    0.85\n",
            " 17    3200       12399.45   4589.82   84.67   82.55   86.91    0.85\n",
            " 18    3400        6020.86   4224.45   84.79   82.92   86.76    0.85\n",
            " 19    3600        3027.69   4035.97   84.85   83.92   85.79    0.85\n",
            "\u001b[38;5;2m✔ Saved pipeline to output directory\u001b[0m\n",
            "/content/drive/MyDrive/ResumeParser/model/output/model-last\n"
          ]
        }
      ]
    },
    {
      "cell_type": "markdown",
      "source": [
        "* Using transformer\n",
        "* Total step is 7000"
      ],
      "metadata": {
        "id": "bMoNXbALV2p5"
      }
    },
    {
      "cell_type": "code",
      "source": [
        "# loading the model\n",
        "resume_parser = spacy.load('/content/drive/MyDrive/ResumeParser/model/output/model-best')"
      ],
      "metadata": {
        "id": "VpYKlEFkoaNQ"
      },
      "execution_count": null,
      "outputs": []
    },
    {
      "cell_type": "code",
      "source": [
        "# Loading the sample resume\n",
        "import fitz\n",
        "\n",
        "sample_resume = '/content/drive/MyDrive/ResumeParser/test/sample_resume.pdf'\n",
        "doc = fitz.open(sample_resume)\n"
      ],
      "metadata": {
        "id": "1F5ul_OFQBAe"
      },
      "execution_count": null,
      "outputs": []
    },
    {
      "cell_type": "code",
      "source": [
        "# Extracting text from sample resume\n",
        "text = ' '\n",
        "for page in doc:\n",
        "  text = text + str(page.get_text())"
      ],
      "metadata": {
        "id": "ZSUM_xUBqmDv"
      },
      "execution_count": null,
      "outputs": []
    },
    {
      "cell_type": "code",
      "source": [
        "# text display\n",
        "text"
      ],
      "metadata": {
        "colab": {
          "base_uri": "https://localhost:8080/",
          "height": 123
        },
        "id": "PJZIgbOYqyHm",
        "outputId": "e74c16ff-b8d8-4d6e-d3a9-1ca2835cdbc5"
      },
      "execution_count": null,
      "outputs": [
        {
          "output_type": "execute_result",
          "data": {
            "text/plain": [
              "\" Vijay Pagare\\n(+91)889XXXXX28 | xyz@gmail.com | Miraroad, Thane, MH, IND https://\\nwww.linkedin.com/in/xyz/\\nA frontend-leaning software engineer who has 4.5+ years of experience in building and maintaining high-quality (B2B)\\nsaas products and web applications. Proven ability to work independently and as part of a team in fast-moving,\\nresource-constraint environments where short turnaround times are a norm. Exceptional at leveraging interpersonal skills\\nto facilitate a collaborative relationship among cross-functional teams to get the work done. Excellent problem-solver with\\nan aptitude for troubleshooting and the ability to quickly master new skills, technology, or a role.\\nPROFESSIONAL EXPERIENCE\\nPROPELLOR.AI\\nSoftware Engineer - Frontend\\nPune - Remote\\nAugust 2021–Present\\n●\\nArchitected, built and maintained business critical modules for a data uni��cation and visualisation\\nplatform.\\n○\\nIntroduced 20+ charts including sankey, wordcloud, heatmap, tree, bubble, Map - India and\\nUSA, with a few custom bar charts & tables. Built them using SVG, Canvas, and Open-source\\nlibraries like Apache Echarts, d3, ng-zorro, and ag-grid.\\n○\\nDeveloped 10+ data sources by integrating 3rd party APIs from facebook, google, shopify,\\nsnapchat, etc. Built data connectors using forms and oAuth2 based approaches.\\n○\\nImplemented features: ticketing system, billing service, user management, rich-text-editor\\nenabled notes, admin panel, RBACs & Tier-Based User Restriction Service, chart alerts,\\ndashboard and charting related - page & group ��lters, external share, save as pdf, slideshow\\nmode.\\n●\\nStabilised the app by reducing the bugs by 90% within a quarter of joining and thereon maintained a\\n<5% bug-to-new-feature ratio\\n○\\nRedesigned API responses by making proper use of cohesion and coupling concepts.\\nRefactored the centralised state management service where RxJS leaks were prominent.\\nBuilt a tracking service that could facilitate Root Cause Analysis for high-impact causing\\nissues by logging the user actions, code ��ow, and modi��cations in the source-of-truth.\\n○\\nEstablished an AWS pipeline for dev, stage, and prod environments to automate releases.\\nSet up a release and signo�f process in place.\\n●\\nEnhanced the User Experience and Interface which led to a doubling of the average time spent\\non the app and improved demo-to-trial ratio\\n○\\nPrepared a UX + lighthouse report along with the design team wherein we identi��ed some\\nquick wins and established other long-term procedures as a part of design signo�f process\\n○\\nImplemented driver.js for product demos instead of video onboarding, introduced setup\\nguides, help, and getting started CTAs, brought in micro-interactions, changed the entire app\\ntheme along with the component library, and coordinated with designers for improved user\\nmessaging. Made sure we paid attention to details - alignments, spacing, color combos,\\nadherence to design principles, etc.\\n○\\nTook lighthouse accessibility and best practices scores to around 90 from below 60.\\n●\\nRevamped the architecture of the core charting library and dashboard module to improve the ��rst\\ncontentful paint time from 5s to 1.5s.\\n○\\nDid so by modularising the code into smaller chunks (modules and components), refactored\\nmemory leaks, reduced unnecessary API calls, performed asset compression and caching\\n+ enabled CDNs\\n○\\nImplemented lazing loading and lazy rendering (render stu�f only when necessary -\\nstrategic breaking down of the entire page into groups)\\n○\\ncleaned up redundant services, unused components, packages, images and other assets\\n○\\nled migration from angular v9 to v15 along with all its dependencies\\nTook the lighthouse performance score from around 25 to 70\\n●\\nSingle-handedly leading the frontend development activities since Jan 2023. Active contributions\\nin project planning and product discussions. Accustomed to working alongside the CEO, CTO along\\nwith fellow engineers and designers.\\nERAGAP VENTURES\\nSoftware Engineer - Founder\\nMumbai - Remote\\nSept 2020–August 2021\\n●\\nIndie-hacked a portfolio of products and services as a solopreneur. Mostly worked on web-based saas\\ntools, media initiatives, and client projects. Made multiple pivots: ecom, crypto, and content.\\n○\\nBuilt ecom apps for a jewellery store and a paper ��orist using React/NextJS, TailwindCSS,\\nJavascript, and Vercel. Developed a web app that provided legal documents service (wills &\\ncodicils). Built an SEO-rich blog app for creators that converted .md ��les to blog posts.\\n○\\nBuilt a content automation platform (app + website) to help creators and marketers\\nautomate social media posts. Data once connected to Google Sheets would turn into\\nready-to-post images.\\n○\\nBuilt a philosophy-based app like goodreads + inshorts app, later turned into a content-only\\nproduct. Social media peak reached an average of 100K monthly impressions for 6 months.\\nFLEXILOANS\\nSoftware Engineer - Frontend\\n●\\nBuilt a dynamic client onboarding and lead generation platform (JSON-based)\\nthat tailored itself to various user journeys depending upon the source of the lead\\nand was integrated with Flexiloans' business partners like Gpay, Paypal, and Xiaomi. It\\nwas used by 6 lac SMEs per month.\\n●\\nAwarded Employee of the Month twice.\\n●\\nFeatures: KYC ��ow, Loans Pro��le Section, E-Nach/Ops ��ow.\\nMumbai\\nJune 2019–Sept 2020\\nLUMINAIRE ACADEMY\\nLecturer - Founder\\nMumbai\\n2015–2019\\n●\\nBootstrapped an o���ine coaching institute during my college days. ARR: 15 lac.\\n●\\nRoles: Teaching (physics), guest lecturing at other partner institutes (5+), mentoring\\n●\\nPrime decision-making, marketing and revenue generation.\\nTECH STACK\\nJavascript, Typescript, React, NextJS, Angular 2+, TailwindCSS, HTML, CSS/SCSS, Git, REST-APIs using Nodejs, Linux,\\nMaterial & Ant Design, ES6, Redux, RxJS, Apache Echarts, D3.js, Three.js, Sockets, PWA\\nEducation\\nBachelor of Engineering - Computers\\nRajiv Gandhi Institute of Technology, Mumbai University\\nGrade Pointer: 8.6/10\\nMay 2019\\n\""
            ],
            "application/vnd.google.colaboratory.intrinsic+json": {
              "type": "string"
            }
          },
          "metadata": {},
          "execution_count": 10
        }
      ]
    },
    {
      "cell_type": "code",
      "source": [
        "# Process the text with resume_parser model\n",
        "doc = resume_parser(text)\n",
        "\n",
        "# Collect the entities and their labels in a list of dictionaries\n",
        "entities = []\n",
        "for ent in doc.ents:\n",
        "    entities.append({\"text\": ent.text, \"label\": ent.label_})\n",
        "\n",
        "# Create the JSON output\n",
        "json_output = json.dumps(entities, indent=4)  # Indent for readability\n",
        "\n",
        "# Print or save the JSON output\n",
        "print(json_output)\n"
      ],
      "metadata": {
        "id": "K8eU55iwrE-J",
        "colab": {
          "base_uri": "https://localhost:8080/"
        },
        "outputId": "bafaa041-6434-4573-8d4a-27bd1a63fe62"
      },
      "execution_count": null,
      "outputs": [
        {
          "output_type": "stream",
          "name": "stdout",
          "text": [
            "[\n",
            "    {\n",
            "        \"text\": \"www.linkedin.com/in/xyz/\\nA frontend-leaning software engineer who has 4.5+ years of experience in building and maintaining high-quality (B2B)\\nsaas products and web applications. Proven ability to work independently and as part of a team in fast-moving,\\nresource-constraint environments where short turnaround times are a norm. Exceptional at leveraging interpersonal skills\\nto facilitate a collaborative relationship among cross-functional teams to get the work done. Excellent problem-solver with\\nan aptitude for troubleshooting and the ability to quickly master new skills, technology, or a role.\\n\",\n",
            "        \"label\": \"LINKEDIN LINK\"\n",
            "    },\n",
            "    {\n",
            "        \"text\": \"PROFESSIONAL EXPERIENCE\",\n",
            "        \"label\": \"COMPANIES WORKED AT\"\n",
            "    },\n",
            "    {\n",
            "        \"text\": \"PROPELLOR.AI\\n\",\n",
            "        \"label\": \"COMPANIES WORKED AT\"\n",
            "    },\n",
            "    {\n",
            "        \"text\": \"Software Engineer - Frontend\",\n",
            "        \"label\": \"WORKED AS\"\n",
            "    },\n",
            "    {\n",
            "        \"text\": \"Pune - Remote\",\n",
            "        \"label\": \"WORKED AS\"\n",
            "    },\n",
            "    {\n",
            "        \"text\": \"ERAGAP VENTURES\",\n",
            "        \"label\": \"COMPANIES WORKED AT\"\n",
            "    },\n",
            "    {\n",
            "        \"text\": \"Software Engineer - Founder\",\n",
            "        \"label\": \"WORKED AS\"\n",
            "    },\n",
            "    {\n",
            "        \"text\": \"Mumbai - Remote\",\n",
            "        \"label\": \"WORKED AS\"\n",
            "    },\n",
            "    {\n",
            "        \"text\": \"FLEXILOANS\",\n",
            "        \"label\": \"COMPANIES WORKED AT\"\n",
            "    },\n",
            "    {\n",
            "        \"text\": \"Software Engineer - Frontend\\n\\u25cf\",\n",
            "        \"label\": \"WORKED AS\"\n",
            "    },\n",
            "    {\n",
            "        \"text\": \"LUMINAIRE ACADEMY\",\n",
            "        \"label\": \"COMPANIES WORKED AT\"\n",
            "    },\n",
            "    {\n",
            "        \"text\": \"Lecturer - Founder\",\n",
            "        \"label\": \"WORKED AS\"\n",
            "    },\n",
            "    {\n",
            "        \"text\": \"Bachelor of Engineering\",\n",
            "        \"label\": \"DEGREE\"\n",
            "    },\n",
            "    {\n",
            "        \"text\": \"Rajiv Gandhi Institute of Technology, Mumbai University\",\n",
            "        \"label\": \"UNIVERSITY\"\n",
            "    },\n",
            "    {\n",
            "        \"text\": \"Grade Pointer\",\n",
            "        \"label\": \"WORKED AS\"\n",
            "    }\n",
            "]\n"
          ]
        }
      ]
    }
  ]
}